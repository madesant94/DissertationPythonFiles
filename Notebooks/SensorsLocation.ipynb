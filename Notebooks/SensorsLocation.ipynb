{
 "cells": [
  {
   "cell_type": "code",
   "execution_count": 1,
   "id": "80dd06ad",
   "metadata": {},
   "outputs": [],
   "source": [
    "\n",
    "\n",
    "import networkx as nx\n",
    "import osmnx as ox\n",
    "\n",
    "import networkx as nx\n",
    "import osmnx as ox\n",
    "from shapely.geometry import LineString, mapping\n",
    "import geopandas as gpd\n",
    "from ipyleaflet import *\n",
    "\n",
    "\n",
    "ox.__version__\n",
    "\n",
    "\n",
    "#PLOT VIS POINTS\n",
    "\n",
    "\n",
    "\n",
    "# LAQN\n",
    "Brent = (51.552476000000, -0.258089000000)\n",
    "WaterlooPlace = (51.507581913776, -0.133068372704)\n",
    "Soutwahrk = (51.493165, -0.101608)\n",
    "WestminsterElizabethBridge= (51.492454, -0.148097)\n",
    "\n",
    "# AURN\n",
    "\n",
    "londonHarlington = (51.488790, -0.441614)\n",
    "LondonTeddingtonBushyPark = (51.425286, -0.345606)\n",
    "CamdenKerbside = (51.544210, -0.175269)\n",
    "LondonBexley = (51.466030, 0.184806)\n",
    "LondonHonorOakPark = (51.449674, -0.037418)\n",
    "LondonMaryleboneRoad = (51.522530, -0.154611)\n",
    "LondonWestminster = (51.494670, -0.131931)\n",
    "LondonKensington = (51.521050, -0.213492)\n",
    "\n",
    "AURN = [londonHarlington,LondonTeddingtonBushyPark,CamdenKerbside,\n",
    "       LondonBexley,LondonHonorOakPark, LondonMaryleboneRoad, LondonWestminster,\n",
    "       LondonKensington]\n",
    "\n",
    "LAQN = [Brent,WaterlooPlace, Soutwahrk, WestminsterElizabethBridge]\n",
    "        \n",
    "\n",
    "        "
   ]
  },
  {
   "cell_type": "code",
   "execution_count": 2,
   "id": "64f0696e",
   "metadata": {},
   "outputs": [
    {
     "data": {
      "application/vnd.jupyter.widget-view+json": {
       "model_id": "a8f310e568634af1b2513e04feca3302",
       "version_major": 2,
       "version_minor": 0
      },
      "text/plain": [
       "Map(center=[51.552476, -0.258089], controls=(ZoomControl(options=['position', 'zoom_in_text', 'zoom_in_title',…"
      ]
     },
     "execution_count": 2,
     "metadata": {},
     "output_type": "execute_result"
    }
   ],
   "source": [
    "\n",
    "from ipyleaflet import *\n",
    "\n",
    "m = Map(center=Brent, zoom=13, basemap=basemaps.CartoDB.Positron)\n",
    "\n",
    "#style for the destination marker\n",
    "LAQN_style = AwesomeIcon(\n",
    "    name='circle',\n",
    "    icon_color='white',\n",
    "    marker_color='red',\n",
    "    spin=False\n",
    ")\n",
    "\n",
    "green_style = AwesomeIcon(\n",
    "    name='circle',\n",
    "    icon_color='white',\n",
    "    marker_color='green',\n",
    "    spin=False\n",
    ")\n",
    "\n",
    "for i in AURN:\n",
    "    marker = Marker(location=i, draggable=True, icon=green_style)\n",
    "    m.add_layer(marker)\n",
    "    \n",
    "for i in LAQN:\n",
    "    marker = Marker(location=i, draggable=True,  icon=LAQN_style)\n",
    "    m.add_layer(marker)\n",
    "    \n",
    "    \n",
    "m.layout.width = '800px'  # Adjust the desired width\n",
    "m.layout.height = '400px' \n",
    "m"
   ]
  },
  {
   "cell_type": "code",
   "execution_count": null,
   "id": "fc20cf6f",
   "metadata": {},
   "outputs": [],
   "source": []
  }
 ],
 "metadata": {
  "kernelspec": {
   "display_name": "Python 3 (ipykernel)",
   "language": "python",
   "name": "python3"
  },
  "language_info": {
   "codemirror_mode": {
    "name": "ipython",
    "version": 3
   },
   "file_extension": ".py",
   "mimetype": "text/x-python",
   "name": "python",
   "nbconvert_exporter": "python",
   "pygments_lexer": "ipython3",
   "version": "3.11.3"
  }
 },
 "nbformat": 4,
 "nbformat_minor": 5
}
